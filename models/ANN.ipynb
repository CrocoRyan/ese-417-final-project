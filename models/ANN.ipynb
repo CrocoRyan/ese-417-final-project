{
 "cells": [
  {
   "cell_type": "code",
   "execution_count": 1,
   "metadata": {},
   "outputs": [],
   "source": [
    "from sklearn.datasets import load_iris\n",
    "from sklearn.model_selection import train_test_split\n",
    "import matplotlib.pyplot as plt\n",
    "from sklearn.neural_network import MLPClassifier\n",
    "import numpy as np\n",
    "import pandas as pd\n",
    "import os\n",
    "\n"
   ]
  },
  {
   "cell_type": "code",
   "execution_count": null,
   "metadata": {},
   "outputs": [],
   "source": []
  },
  {
   "cell_type": "code",
   "execution_count": 2,
   "metadata": {},
   "outputs": [],
   "source": [
    "os.chdir(r'C:\\Users\\qingyuan.1016\\myJupyter\\ese-417-final-project\\data\\preprocessed')\n",
    "X = np.load('X_array.npy')\n",
    "y = np.load('y_array.npy')"
   ]
  },
  {
   "cell_type": "code",
   "execution_count": 3,
   "metadata": {},
   "outputs": [
    {
     "data": {
      "text/plain": [
       "array([5, 5, 5, ..., 6, 5, 6], dtype=int64)"
      ]
     },
     "execution_count": 3,
     "metadata": {},
     "output_type": "execute_result"
    }
   ],
   "source": [
    "y"
   ]
  },
  {
   "cell_type": "code",
   "execution_count": 4,
   "metadata": {},
   "outputs": [
    {
     "data": {
      "text/plain": [
       "array([[-0.52443096,  0.93200015, -1.39325797, ...,  1.29187216,\n",
       "        -0.57856134, -0.95437429],\n",
       "       [-0.29406274,  1.91580043, -1.39325797, ..., -0.70839548,\n",
       "         0.12482157, -0.5845748 ],\n",
       "       [-0.29406274,  1.25993358, -1.18861732, ..., -0.32124691,\n",
       "        -0.05102416, -0.5845748 ],\n",
       "       ...,\n",
       "       [-1.38831178,  0.11216658, -0.88165635, ...,  1.35639693,\n",
       "         0.59374351,  0.7097234 ],\n",
       "       [-1.38831178,  0.63139451, -0.77933603, ...,  1.67902074,\n",
       "         0.3006673 , -0.21477532],\n",
       "       [-1.33071973, -1.19956712,  1.01126962, ...,  0.51757501,\n",
       "         0.00759108,  0.52482366]])"
      ]
     },
     "execution_count": 4,
     "metadata": {},
     "output_type": "execute_result"
    }
   ],
   "source": [
    "X"
   ]
  },
  {
   "cell_type": "code",
   "execution_count": 5,
   "metadata": {},
   "outputs": [],
   "source": [
    "\n",
    "os.chdir(r'C:\\Users\\qingyuan.1016\\myJupyter\\ese-417-final-project')\n",
    "from sklearn.metrics import confusion_matrix\n",
    "from utils.ut import load_data\n",
    "#accuracy = evaluate_by_accuracy(MLP_result, X_test, y_test)\n",
    "X_train, X_test, y_train, y_test = load_data(4)\n",
    "\n",
    "#y_train.shape"
   ]
  },
  {
   "cell_type": "code",
   "execution_count": 6,
   "metadata": {},
   "outputs": [],
   "source": [
    "#X_train = np.load('X_train.npy')\n",
    "#y_train = np.load('y_train.npy')\n",
    "#X_test = np.load('X_test.npy')\n",
    "#y_test = np.load('y_test.npy')\n",
    "##backup parameter\n",
    "#'solver': ['sgd','lbfgs','adam'],\n",
    "#                'activation':['logistic','relu','tanh'],\n",
    "#               'hidden_layer_sizes':[(15,15),(15,),(120,),(120,120),(100,100),(100,)],\n",
    "#                'learning_rate_init':[0.1,0.5],\n",
    "#                'max_iter':[150,200],\n",
    "#                'momentum':[0.9,0.5,0.1],\n",
    "#               'batch_size':['auto'],"
   ]
  },
  {
   "cell_type": "markdown",
   "metadata": {},
   "source": [
    "## after determining the best paremeter, starting to find the best hidden layer size"
   ]
  },
  {
   "cell_type": "code",
   "execution_count": 10,
   "metadata": {},
   "outputs": [],
   "source": [
    "from sklearn.model_selection import GridSearchCV\n",
    "import warnings\n",
    "from sklearn.exceptions import ConvergenceWarning\n",
    "\n",
    "with warnings.catch_warnings():\n",
    "    warnings.simplefilter(\"ignore\", category=ConvergenceWarning)\n",
    "    model_ann = MLPClassifier(random_state=20)\n",
    "\n",
    "    param_grid = {\n",
    "                'solver': ['sgd'],\n",
    "                'activation':['relu'],\n",
    "                'hidden_layer_sizes':[(i,i)for i in range(5,300,5)],\n",
    "                'learning_rate_init':[0.1],\n",
    "                'max_iter':[200],\n",
    "                'momentum':[0.9],\n",
    "                'batch_size':['auto'],\n",
    "  \n",
    "  \n",
    "               \n",
    "    }\n",
    "\n",
    "    gs = GridSearchCV(model_ann,param_grid,n_jobs = 1,cv = 3)\n",
    "    gs_result = gs.fit(X_train,y_train)"
   ]
  },
  {
   "cell_type": "code",
   "execution_count": 11,
   "metadata": {},
   "outputs": [
    {
     "data": {
      "text/plain": [
       "0.9388379204892966"
      ]
     },
     "execution_count": 11,
     "metadata": {},
     "output_type": "execute_result"
    }
   ],
   "source": [
    "gs_result.best_score_"
   ]
  },
  {
   "cell_type": "code",
   "execution_count": 12,
   "metadata": {},
   "outputs": [
    {
     "data": {
      "text/plain": [
       "{'activation': 'relu',\n",
       " 'batch_size': 'auto',\n",
       " 'hidden_layer_sizes': (275, 275),\n",
       " 'learning_rate_init': 0.1,\n",
       " 'max_iter': 200,\n",
       " 'momentum': 0.9,\n",
       " 'solver': 'sgd'}"
      ]
     },
     "execution_count": 12,
     "metadata": {},
     "output_type": "execute_result"
    }
   ],
   "source": [
    "gs_result.best_params_"
   ]
  },
  {
   "cell_type": "code",
   "execution_count": 13,
   "metadata": {},
   "outputs": [
    {
     "data": {
      "text/plain": [
       "MLPClassifier(activation='relu', alpha=0.0001, batch_size='auto', beta_1=0.9,\n",
       "              beta_2=0.999, early_stopping=False, epsilon=1e-08,\n",
       "              hidden_layer_sizes=(275, 275), learning_rate='constant',\n",
       "              learning_rate_init=0.1, max_fun=15000, max_iter=200, momentum=0.9,\n",
       "              n_iter_no_change=10, nesterovs_momentum=True, power_t=0.5,\n",
       "              random_state=20, shuffle=True, solver='sgd', tol=0.0001,\n",
       "              validation_fraction=0.1, verbose=False, warm_start=False)"
      ]
     },
     "execution_count": 13,
     "metadata": {},
     "output_type": "execute_result"
    }
   ],
   "source": [
    "import joblib\n",
    "gs_result.best_estimator_\n"
   ]
  },
  {
   "cell_type": "code",
   "execution_count": 14,
   "metadata": {},
   "outputs": [
    {
     "data": {
      "text/plain": [
       "['models/ann_grid_search.pkl']"
      ]
     },
     "execution_count": 14,
     "metadata": {},
     "output_type": "execute_result"
    }
   ],
   "source": [
    "os.chdir(r'C:\\Users\\qingyuan.1016\\myJupyter\\ese-417-final-project')\n",
    "joblib.dump(gs_result.best_estimator_, 'models/best_ann_grid_search.pkl', compress = 1)\n",
    "joblib.dump(gs_result, 'models/ann_grid_search.pkl', compress = 1)"
   ]
  },
  {
   "cell_type": "code",
   "execution_count": 15,
   "metadata": {},
   "outputs": [],
   "source": [
    "MLP = MLPClassifier(activation='relu', alpha=0.0001, batch_size='auto', beta_1=0.9,\n",
    "                      beta_2=0.999, early_stopping=False, epsilon=1e-08,\n",
    "                      hidden_layer_sizes=(275,275 ), learning_rate='constant',\n",
    "                      learning_rate_init=0.1, max_fun=15000, max_iter=200, momentum=0.9,\n",
    "                      n_iter_no_change=10, nesterovs_momentum=True, power_t=0.5,\n",
    "                      random_state=20, shuffle=True, solver='sgd', tol=0.0001,\n",
    "                      validation_fraction=0.1, verbose=False, warm_start=False)\n",
    "MLP_result = MLP.fit(X_train,y_train)"
   ]
  },
  {
   "cell_type": "code",
   "execution_count": 19,
   "metadata": {},
   "outputs": [],
   "source": []
  },
  {
   "cell_type": "code",
   "execution_count": 16,
   "metadata": {},
   "outputs": [],
   "source": [
    "##\n",
    "\"\"\"\n",
    "MLP = MLPClassifier(activation='relu', alpha=0.0001, batch_size='auto', beta_1=0.9,\n",
    "              beta_2=0.999, early_stopping=False, epsilon=1e-08,\n",
    "              hidden_layer_sizes=(120,120 ), learning_rate='constant',\n",
    "              learning_rate_init=0.1, max_fun=15000, max_iter=200, momentum=0.9,\n",
    "              n_iter_no_change=10, nesterovs_momentum=True, power_t=0.5,\n",
    "              random_state=20, shuffle=True, solver='sgd', tol=0.0001,\n",
    "              validation_fraction=0.1, verbose=False, warm_start=False)\n",
    "\"\"\"\n",
    "from sklearn.metrics import accuracy_score\n",
    "import joblib\n",
    "from sklearn.metrics import confusion_matrix\n",
    "from utils.ut import load_data\n",
    "os.chdir(r'C:\\Users\\qingyuan.1016\\myJupyter\\ese-417-final-project')\n",
    "accuracy_score_ann = []\n",
    "\n",
    "def ann_performance_score():\n",
    "    \n",
    "    for i in range(11):\n",
    "       \n",
    "\n",
    "        #accuracy = evaluate_by_accuracy(MLP_result, X_test, y_test)\n",
    "        X_train, X_test, y_train, y_test = load_data(i)\n",
    "\n",
    "        y_train.shape\n",
    "        MLP = MLPClassifier(activation='relu', alpha=0.0001, batch_size='auto', beta_1=0.9,\n",
    "                      beta_2=0.999, early_stopping=False, epsilon=1e-08,\n",
    "                      hidden_layer_sizes=(275,275 ), learning_rate='constant',\n",
    "                      learning_rate_init=0.1, max_fun=15000, max_iter=200, momentum=0.9,\n",
    "                      n_iter_no_change=10, nesterovs_momentum=True, power_t=0.5,\n",
    "                      random_state=20, shuffle=True, solver='sgd', tol=0.0001,\n",
    "                      validation_fraction=0.1, verbose=False, warm_start=False)\n",
    "        MLP_result = MLP.fit(X_train,y_train)\n",
    "       \n",
    "        joblib.dump(MLP_result, 'models/ann_%d.pkl'%(i), compress = 1)\n",
    "        y_true = y_test\n",
    "        y_predict = MLP_result.predict(X_test)\n",
    "       \n",
    "        accuracy = accuracy_score(y_true, y_predict)\n",
    "\n",
    "        accuracy_score_ann.append(accuracy)\n",
    "    np.save('models/ann_performance_score.npy', accuracy_score_ann)"
   ]
  },
  {
   "cell_type": "code",
   "execution_count": 18,
   "metadata": {},
   "outputs": [],
   "source": [
    "ann_performance_score()"
   ]
  },
  {
   "cell_type": "code",
   "execution_count": 19,
   "metadata": {},
   "outputs": [
    {
     "data": {
      "text/plain": [
       "0.8525"
      ]
     },
     "execution_count": 19,
     "metadata": {},
     "output_type": "execute_result"
    }
   ],
   "source": [
    "#from sklearn.metrics import confusion_matrix\n",
    "#from utils.ut import evaluate_by_accuracy\n",
    "from sklearn.metrics import accuracy_score\n",
    "\n",
    "#accuracy = evaluate_by_accuracy(MLP_result, X_test, y_test)\n",
    "y_true = y_test\n",
    "y_predict = MLP_result.predict(X_test)\n",
    "accuracy = accuracy_score(y_true, y_predict)\n",
    "accuracy\n",
    "\n"
   ]
  },
  {
   "cell_type": "code",
   "execution_count": 20,
   "metadata": {},
   "outputs": [
    {
     "data": {
      "text/plain": [
       "[0.87,\n",
       " 0.85,\n",
       " 0.85,\n",
       " 0.84,\n",
       " 0.835,\n",
       " 0.8425,\n",
       " 0.825,\n",
       " 0.7775,\n",
       " 0.72,\n",
       " 0.6,\n",
       " 0.6125,\n",
       " 0.87,\n",
       " 0.85,\n",
       " 0.85,\n",
       " 0.84,\n",
       " 0.835,\n",
       " 0.8425,\n",
       " 0.825,\n",
       " 0.7775,\n",
       " 0.72,\n",
       " 0.6,\n",
       " 0.6125]"
      ]
     },
     "execution_count": 20,
     "metadata": {},
     "output_type": "execute_result"
    }
   ],
   "source": [
    "accuracy_score_ann"
   ]
  },
  {
   "cell_type": "code",
   "execution_count": 21,
   "metadata": {},
   "outputs": [
    {
     "data": {
      "text/plain": [
       "array([[  2,  11,   0],\n",
       "       [ 12, 299,  16],\n",
       "       [  1,  19,  40]], dtype=int64)"
      ]
     },
     "execution_count": 21,
     "metadata": {},
     "output_type": "execute_result"
    }
   ],
   "source": [
    "Confusion_matrix = confusion_matrix(y_true,y_predict)\n",
    "Confusion_matrix\n"
   ]
  },
  {
   "cell_type": "code",
   "execution_count": 22,
   "metadata": {},
   "outputs": [
    {
     "data": {
      "text/plain": [
       "['models/ann_predict.pkl']"
      ]
     },
     "execution_count": 22,
     "metadata": {},
     "output_type": "execute_result"
    }
   ],
   "source": [
    "import joblib\n",
    "joblib.dump(Confusion_matrix, 'models/ann_confusionz_matrix.pkl', compress = 1)\n",
    "joblib.dump(accuracy, 'models/ann_accuracy.pkl', compress = 1)\n",
    "joblib.dump(y_predict, 'models/ann_predict.pkl', compress = 1)"
   ]
  },
  {
   "cell_type": "code",
   "execution_count": null,
   "metadata": {},
   "outputs": [],
   "source": []
  }
 ],
 "metadata": {
  "kernelspec": {
   "display_name": "Python 3",
   "language": "python",
   "name": "python3"
  },
  "language_info": {
   "codemirror_mode": {
    "name": "ipython",
    "version": 3
   },
   "file_extension": ".py",
   "mimetype": "text/x-python",
   "name": "python",
   "nbconvert_exporter": "python",
   "pygments_lexer": "ipython3",
   "version": "3.7.6"
  }
 },
 "nbformat": 4,
 "nbformat_minor": 4
}
